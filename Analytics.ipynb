{
 "cells": [
  {
   "cell_type": "code",
   "execution_count": 1,
   "id": "296d420b-53b1-4c50-ab98-b8adeeb8f376",
   "metadata": {},
   "outputs": [],
   "source": [
    "import mysql.connector"
   ]
  },
  {
   "cell_type": "code",
   "execution_count": 2,
   "id": "97cdeca5-34b9-4794-a9f8-f4bfeea5c286",
   "metadata": {},
   "outputs": [],
   "source": [
    "def get_db():\n",
    "    db = mysql.connector.connect(\n",
    "        host='localhost',\n",
    "        user='root',\n",
    "        password='@Navarrete2311',\n",
    "        database='pruebas'\n",
    "    )\n",
    "    c = db.cursor(dictionary=True)\n",
    "    return db, c"
   ]
  },
  {
   "cell_type": "code",
   "execution_count": 11,
   "id": "e1445b1a-827f-4a9d-b0c7-dccefc044a91",
   "metadata": {},
   "outputs": [],
   "source": [
    "def get_emotions(entries):\n",
    "    return pd.DataFrame(entries)"
   ]
  },
  {
   "cell_type": "code",
   "execution_count": 3,
   "id": "810ff280-38cc-406c-9fbb-e5e1a58f8322",
   "metadata": {},
   "outputs": [],
   "source": [
    "db, c = get_db()"
   ]
  },
  {
   "cell_type": "code",
   "execution_count": 6,
   "id": "dad7100b-fa9e-4685-bf32-cc6688626405",
   "metadata": {},
   "outputs": [],
   "source": [
    "db, c = get_db()\n",
    "c.execute(\n",
    "    'SELECT e.id, e.emotion, e.description, e.created_at, e.modified_at'\n",
    "    ' FROM entries e JOIN users u ON e.created_by = u.id'\n",
    "    ' WHERE e.created_by = %s ORDER BY modified_at DESC',\n",
    "    (2,)\n",
    ")\n",
    "\n",
    "entries = c.fetchall()"
   ]
  },
  {
   "cell_type": "code",
   "execution_count": 7,
   "id": "84474494-568f-4a3b-a357-2c592144035b",
   "metadata": {},
   "outputs": [
    {
     "data": {
      "text/plain": [
       "[{'id': 43,\n",
       "  'emotion': 'angry',\n",
       "  'description': 'This is a description',\n",
       "  'created_at': datetime.datetime(2024, 6, 15, 0, 43, 44),\n",
       "  'modified_at': datetime.datetime(2024, 6, 15, 0, 43, 44)},\n",
       " {'id': 41,\n",
       "  'emotion': 'angry',\n",
       "  'description': 'New entrie',\n",
       "  'created_at': datetime.datetime(2024, 6, 14, 16, 56, 31),\n",
       "  'modified_at': datetime.datetime(2024, 6, 15, 0, 26, 29)},\n",
       " {'id': 42,\n",
       "  'emotion': 'sad',\n",
       "  'description': 'Nada nuevo, es una prueba',\n",
       "  'created_at': datetime.datetime(2024, 6, 15, 0, 26, 16),\n",
       "  'modified_at': datetime.datetime(2024, 6, 15, 0, 26, 16)},\n",
       " {'id': 40,\n",
       "  'emotion': 'happy',\n",
       "  'description': 'Hi!',\n",
       "  'created_at': datetime.datetime(2024, 6, 14, 16, 55, 40),\n",
       "  'modified_at': datetime.datetime(2024, 6, 14, 16, 55, 40)},\n",
       " {'id': 39,\n",
       "  'emotion': 'good',\n",
       "  'description': 'New entry jeje',\n",
       "  'created_at': datetime.datetime(2024, 6, 14, 14, 21, 2),\n",
       "  'modified_at': datetime.datetime(2024, 6, 14, 14, 55, 8)},\n",
       " {'id': 37,\n",
       "  'emotion': 'happy',\n",
       "  'description': 'hola!',\n",
       "  'created_at': datetime.datetime(2024, 6, 6, 18, 34, 19),\n",
       "  'modified_at': datetime.datetime(2024, 6, 13, 16, 36, 44)},\n",
       " {'id': 33,\n",
       "  'emotion': 'meh',\n",
       "  'description': 'Que flojera tengo we',\n",
       "  'created_at': datetime.datetime(2024, 6, 1, 3, 3, 15),\n",
       "  'modified_at': datetime.datetime(2024, 6, 1, 3, 3, 15)},\n",
       " {'id': 31,\n",
       "  'emotion': 'meh',\n",
       "  'description': 'Viva desvelarseee',\n",
       "  'created_at': datetime.datetime(2024, 6, 1, 3, 2, 13),\n",
       "  'modified_at': datetime.datetime(2024, 6, 1, 3, 2, 13)}]"
      ]
     },
     "execution_count": 7,
     "metadata": {},
     "output_type": "execute_result"
    }
   ],
   "source": [
    "entries"
   ]
  },
  {
   "cell_type": "code",
   "execution_count": 34,
   "id": "06a6c36d-63d0-4772-b844-f7a17a3ad26c",
   "metadata": {},
   "outputs": [],
   "source": [
    "import pandas as pd\n",
    "import numpy as np\n",
    "import seaborn as sns\n",
    "import matplotlib\n",
    "import matplotlib.pyplot as plt\n",
    "from matplotlib.figure import Figure\n",
    "from io import BytesIO\n",
    "matplotlib.use('agg') # This needs to happen before any pyplot import!!!\n",
    "%matplotlib inline\n"
   ]
  },
  {
   "cell_type": "code",
   "execution_count": 66,
   "id": "52fda481-90b0-403c-aa46-37c9cee1beb7",
   "metadata": {},
   "outputs": [
    {
     "name": "stderr",
     "output_type": "stream",
     "text": [
      "/var/folders/ww/b4znpwnj1pn98_xzv10y543h0000gn/T/ipykernel_56314/766290490.py:14: UserWarning: FigureCanvasAgg is non-interactive, and thus cannot be shown\n",
      "  fig.show()\n"
     ]
    },
    {
     "data": {
      "image/png": "[encoded data removed]",
      "text/plain": [
       "<Figure size 640x480 with 1 Axes>"
      ]
     },
     "metadata": {},
     "output_type": "display_data"
    }
   ],
   "source": [
    "data = get_emotions(entries)\n",
    "fig, ax = plt.subplots()\n",
    "#ax = fig.subplots()\n",
    "emotion_counts = data['emotion'].value_counts()\n",
    "ax.barh(emotion_counts.index, emotion_counts.values)\n",
    "\n",
    "# Añadir etiquetas y título\n",
    "ax.set_xlabel('Cantidad')\n",
    "ax.set_ylabel('Emoción')\n",
    "ax.set_title('Cantidad de cada emoción')\n",
    "# Save it to a temporary buffer.\n",
    "# buf = BytesIO()\n",
    "#fig.savefig(buf, format=\"png\")\n",
    "fig.show()"
   ]
  },
  {
   "cell_type": "code",
   "execution_count": 63,
   "id": "9ed099bd-f9ef-49bc-b08e-682898a0a466",
   "metadata": {},
   "outputs": [
    {
     "data": {
      "text/html": [
       "<div>\n",
       "<style scoped>\n",
       "    .dataframe tbody tr th:only-of-type {\n",
       "        vertical-align: middle;\n",
       "    }\n",
       "\n",
       "    .dataframe tbody tr th {\n",
       "        vertical-align: top;\n",
       "    }\n",
       "\n",
       "    .dataframe thead th {\n",
       "        text-align: right;\n",
       "    }\n",
       "</style>\n",
       "<table border=\"1\" class=\"dataframe\">\n",
       "  <thead>\n",
       "    <tr style=\"text-align: right;\">\n",
       "      <th></th>\n",
       "      <th>count</th>\n",
       "    </tr>\n",
       "    <tr>\n",
       "      <th>emotion</th>\n",
       "      <th></th>\n",
       "    </tr>\n",
       "  </thead>\n",
       "  <tbody>\n",
       "    <tr>\n",
       "      <th>angry</th>\n",
       "      <td>2</td>\n",
       "    </tr>\n",
       "    <tr>\n",
       "      <th>happy</th>\n",
       "      <td>2</td>\n",
       "    </tr>\n",
       "    <tr>\n",
       "      <th>meh</th>\n",
       "      <td>2</td>\n",
       "    </tr>\n",
       "    <tr>\n",
       "      <th>sad</th>\n",
       "      <td>1</td>\n",
       "    </tr>\n",
       "    <tr>\n",
       "      <th>good</th>\n",
       "      <td>1</td>\n",
       "    </tr>\n",
       "  </tbody>\n",
       "</table>\n",
       "</div>"
      ],
      "text/plain": [
       "         count\n",
       "emotion       \n",
       "angry        2\n",
       "happy        2\n",
       "meh          2\n",
       "sad          1\n",
       "good         1"
      ]
     },
     "execution_count": 63,
     "metadata": {},
     "output_type": "execute_result"
    }
   ],
   "source": [
    "pd.DataFrame(data.emotion.value_counts())"
   ]
  },
  {
   "cell_type": "code",
   "execution_count": 43,
   "id": "5f1382bb-43e5-41bf-900f-0e5ad40f9181",
   "metadata": {},
   "outputs": [],
   "source": [
    "em = dict(data['emotion'].value_counts())"
   ]
  },
  {
   "cell_type": "code",
   "execution_count": 45,
   "id": "c0428bcb-4d6e-4716-adef-51b8575697dc",
   "metadata": {},
   "outputs": [
    {
     "data": {
      "text/plain": [
       "dict_keys(['angry', 'happy', 'meh', 'sad', 'good'])"
      ]
     },
     "execution_count": 45,
     "metadata": {},
     "output_type": "execute_result"
    }
   ],
   "source": [
    "em.keys()"
   ]
  },
  {
   "cell_type": "code",
   "execution_count": 57,
   "id": "c986c9c4-4d02-4ab1-9d92-b99b5acf92f5",
   "metadata": {},
   "outputs": [
    {
     "data": {
      "text/plain": [
       "dict_values([2, 2, 2, 1, 1])"
      ]
     },
     "execution_count": 57,
     "metadata": {},
     "output_type": "execute_result"
    }
   ],
   "source": [
    "em.values()"
   ]
  }
 ],
 "metadata": {
  "kernelspec": {
   "display_name": "Python 3 (ipykernel)",
   "language": "python",
   "name": "python3"
  },
  "language_info": {
   "codemirror_mode": {
    "name": "ipython",
    "version": 3
   },
   "file_extension": ".py",
   "mimetype": "text/x-python",
   "name": "python",
   "nbconvert_exporter": "python",
   "pygments_lexer": "ipython3",
   "version": "3.11.7"
  }
 },
 "nbformat": 4,
 "nbformat_minor": 5
}
